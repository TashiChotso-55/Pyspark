{
 "cells": [
  {
   "cell_type": "markdown",
   "id": "e224b167",
   "metadata": {},
   "source": [
    "# Telecom Churn\n",
    "- team member \n",
    "            Tashi Chotso 20BDA01\n",
    "            "
   ]
  },
  {
   "cell_type": "markdown",
   "id": "0df21efb",
   "metadata": {},
   "source": [
    "## Problem statement\n",
    "- In the telecom industry, customers are able to choose from multiple service providers and actively switch from one operator to another. In this highly competitive market, the telecommunications industry experiences an average of 15-25% annual churn rate. Given the fact that it costs 5-10 times more to acquire a new customer than to retain an existing one, customer retention has now become even more important than customer acquisition.o reduce customer churn, telecom companies need to predict which customers are at high risk of churn.\n"
   ]
  },
  {
   "cell_type": "code",
   "execution_count": 1,
   "id": "fe8f344e",
   "metadata": {},
   "outputs": [],
   "source": [
    "import pyspark\n",
    "import os\n",
    "from random import random\n",
    "from pyspark import SparkContext,SparkConf\n",
    "from pyspark.sql import SparkSession\n",
    "import numpy as np\n",
    "from pyspark.mllib.stat import Statistics"
   ]
  },
  {
   "cell_type": "markdown",
   "id": "5cb87fc4",
   "metadata": {},
   "source": [
    "The first thing a Spark program must do is to create a SparkContext object, which tells Spark how to access a cluster. To create a SparkContext you first need to build a SparkConf object that contains information about your application."
   ]
  },
  {
   "cell_type": "markdown",
   "id": "59b43a97",
   "metadata": {},
   "source": [
    "# 1. Extract,Load data,Read data as text files as RDD Transform"
   ]
  },
  {
   "cell_type": "code",
   "execution_count": 102,
   "id": "c74d888b",
   "metadata": {
    "scrolled": false
   },
   "outputs": [],
   "source": [
    "spark = SparkSession.builder.master(\"local\").\\\n",
    "        appName(\"SparkApplication\").\\\n",
    "        config(\"spark.driver.bindAddress\",\"localhost\").\\\n",
    "        config(\"spark.ui.port\",\"4041\").\\\n",
    "        getOrCreate()"
   ]
  },
  {
   "cell_type": "code",
   "execution_count": null,
   "id": "ffedaab4",
   "metadata": {},
   "outputs": [],
   "source": []
  },
  {
   "cell_type": "code",
   "execution_count": 3,
   "id": "e28d4054",
   "metadata": {},
   "outputs": [
    {
     "data": {
      "text/html": [
       "\n",
       "            <div>\n",
       "                <p><b>SparkSession - in-memory</b></p>\n",
       "                \n",
       "        <div>\n",
       "            <p><b>SparkContext</b></p>\n",
       "\n",
       "            <p><a href=\"http://tashis-air:4041\">Spark UI</a></p>\n",
       "\n",
       "            <dl>\n",
       "              <dt>Version</dt>\n",
       "                <dd><code>v3.2.0</code></dd>\n",
       "              <dt>Master</dt>\n",
       "                <dd><code>local</code></dd>\n",
       "              <dt>AppName</dt>\n",
       "                <dd><code>SparkApplication</code></dd>\n",
       "            </dl>\n",
       "        </div>\n",
       "        \n",
       "            </div>\n",
       "        "
      ],
      "text/plain": [
       "<pyspark.sql.session.SparkSession at 0x7ff38a2727f0>"
      ]
     },
     "execution_count": 3,
     "metadata": {},
     "output_type": "execute_result"
    }
   ],
   "source": [
    "spark"
   ]
  },
  {
   "cell_type": "markdown",
   "id": "49b4ea03",
   "metadata": {},
   "source": [
    "### To read CSV  in Spark into single RDD."
   ]
  },
  {
   "cell_type": "code",
   "execution_count": 103,
   "id": "283ea390",
   "metadata": {},
   "outputs": [],
   "source": [
    "sc = spark.sparkContext"
   ]
  },
  {
   "cell_type": "code",
   "execution_count": 5,
   "id": "4ec018c3",
   "metadata": {},
   "outputs": [],
   "source": [
    "#2.read csv file in rdd\n",
    "data=sc.textFile(\"telecomChurn.csv\")"
   ]
  },
  {
   "cell_type": "code",
   "execution_count": 6,
   "id": "24ec09ee",
   "metadata": {
    "scrolled": true
   },
   "outputs": [
    {
     "name": "stdout",
     "output_type": "stream",
     "text": [
      "\n",
      " telecomChurn.csv MapPartitionsRDD[1] at textFile at NativeMethodAccessorImpl.java:0\n"
     ]
    }
   ],
   "source": [
    "print('\\n',data) #what file rdd"
   ]
  },
  {
   "cell_type": "code",
   "execution_count": 7,
   "id": "21e8f7c4",
   "metadata": {
    "scrolled": true
   },
   "outputs": [
    {
     "name": "stdout",
     "output_type": "stream",
     "text": [
      "\n",
      " <class 'pyspark.rdd.RDD'>\n"
     ]
    }
   ],
   "source": [
    "print('\\n',type(data)) # variable type"
   ]
  },
  {
   "cell_type": "code",
   "execution_count": 8,
   "id": "d7069dce",
   "metadata": {
    "scrolled": true
   },
   "outputs": [
    {
     "name": "stdout",
     "output_type": "stream",
     "text": [
      "\n",
      " ['__add__', '__class__', '__delattr__', '__dict__', '__dir__', '__doc__', '__eq__', '__format__', '__ge__', '__getattribute__', '__getnewargs__', '__gt__', '__hash__', '__init__', '__init_subclass__', '__le__', '__lt__', '__module__', '__ne__', '__new__', '__reduce__', '__reduce_ex__', '__repr__', '__setattr__', '__sizeof__', '__str__', '__subclasshook__', '__weakref__', '_computeFractionForSampleSize', '_defaultReducePartitions', '_id', '_is_barrier', '_jrdd', '_jrdd_deserializer', '_memory_limit', '_pickled', '_reserialize', '_to_java_object_rdd', 'aggregate', 'aggregateByKey', 'barrier', 'cache', 'cartesian', 'checkpoint', 'coalesce', 'cogroup', 'collect', 'collectAsMap', 'collectWithJobGroup', 'combineByKey', 'context', 'count', 'countApprox', 'countApproxDistinct', 'countByKey', 'countByValue', 'ctx', 'distinct', 'filter', 'first', 'flatMap', 'flatMapValues', 'fold', 'foldByKey', 'foreach', 'foreachPartition', 'fullOuterJoin', 'getCheckpointFile', 'getNumPartitions', 'getResourceProfile', 'getStorageLevel', 'glom', 'groupBy', 'groupByKey', 'groupWith', 'has_resource_profile', 'histogram', 'id', 'intersection', 'isCheckpointed', 'isEmpty', 'isLocallyCheckpointed', 'is_cached', 'is_checkpointed', 'join', 'keyBy', 'keys', 'leftOuterJoin', 'localCheckpoint', 'lookup', 'map', 'mapPartitions', 'mapPartitionsWithIndex', 'mapPartitionsWithSplit', 'mapValues', 'max', 'mean', 'meanApprox', 'min', 'name', 'partitionBy', 'partitioner', 'persist', 'pipe', 'randomSplit', 'reduce', 'reduceByKey', 'reduceByKeyLocally', 'repartition', 'repartitionAndSortWithinPartitions', 'rightOuterJoin', 'sample', 'sampleByKey', 'sampleStdev', 'sampleVariance', 'saveAsHadoopDataset', 'saveAsHadoopFile', 'saveAsNewAPIHadoopDataset', 'saveAsNewAPIHadoopFile', 'saveAsPickleFile', 'saveAsSequenceFile', 'saveAsTextFile', 'setName', 'sortBy', 'sortByKey', 'stats', 'stdev', 'subtract', 'subtractByKey', 'sum', 'sumApprox', 'take', 'takeOrdered', 'takeSample', 'toDF', 'toDebugString', 'toLocalIterator', 'top', 'treeAggregate', 'treeReduce', 'union', 'unpersist', 'values', 'variance', 'withResources', 'zip', 'zipWithIndex', 'zipWithUniqueId']\n"
     ]
    }
   ],
   "source": [
    "print('\\n',dir(data))# what attributes are avaiable \n"
   ]
  },
  {
   "cell_type": "code",
   "execution_count": 9,
   "id": "e5ef0e2a",
   "metadata": {
    "scrolled": true
   },
   "outputs": [
    {
     "name": "stderr",
     "output_type": "stream",
     "text": [
      "[Stage 0:>                                                          (0 + 1) / 1]\r"
     ]
    },
    {
     "name": "stdout",
     "output_type": "stream",
     "text": [
      "customerID,gender,SeniorCitizen,Partner,Dependents,tenure,PhoneService,MultipleLines,InternetService,OnlineSecurity,OnlineBackup,DeviceProtection,TechSupport,StreamingTV,StreamingMovies,Contract,PaperlessBilling,PaymentMethod,MonthlyCharges,TotalCharges,Churn\n"
     ]
    },
    {
     "name": "stderr",
     "output_type": "stream",
     "text": [
      "\r",
      "                                                                                \r"
     ]
    }
   ],
   "source": [
    "#header\n",
    "header=data.first()\n",
    "print(header)"
   ]
  },
  {
   "cell_type": "code",
   "execution_count": 14,
   "id": "af1c0236",
   "metadata": {},
   "outputs": [],
   "source": [
    "# remove header\n",
    "rdd1= data.filter(lambda line: line !=header)"
   ]
  },
  {
   "cell_type": "code",
   "execution_count": 15,
   "id": "83bdcc01",
   "metadata": {
    "scrolled": true
   },
   "outputs": [
    {
     "name": "stdout",
     "output_type": "stream",
     "text": [
      "\n",
      " file has: 7043 row\n"
     ]
    }
   ],
   "source": [
    "#total record counts\n",
    "print('\\n file has:',rdd1.count(),'row') #counts\n"
   ]
  },
  {
   "cell_type": "code",
   "execution_count": 16,
   "id": "736ca602",
   "metadata": {
    "scrolled": false
   },
   "outputs": [
    {
     "name": "stdout",
     "output_type": "stream",
     "text": [
      "\n",
      " file line: 7590-VHVEG,Female,0,Yes,No,1,No,No phone service,DSL,No,Yes,No,No,No,No,Month-to-month,Yes,Electronic check,29.85,29.85,No\n"
     ]
    }
   ],
   "source": [
    "#filter first row\n",
    "print('\\n file line:',rdd1.first())"
   ]
  },
  {
   "cell_type": "code",
   "execution_count": 17,
   "id": "88464fa4",
   "metadata": {
    "scrolled": true
   },
   "outputs": [
    {
     "data": {
      "text/plain": [
       "['7590-VHVEG,Female,0,Yes,No,1,No,No phone service,DSL,No,Yes,No,No,No,No,Month-to-month,Yes,Electronic check,29.85,29.85,No',\n",
       " '5575-GNVDE,Male,0,No,No,34,Yes,No,DSL,Yes,No,Yes,No,No,No,One year,No,Mailed check,56.95,1889.5,No',\n",
       " '3668-QPYBK,Male,0,No,No,2,Yes,No,DSL,Yes,Yes,No,No,No,No,Month-to-month,Yes,Mailed check,53.85,108.15,Yes',\n",
       " '7795-CFOCW,Male,0,No,No,45,No,No phone service,DSL,Yes,No,Yes,Yes,No,No,One year,No,Bank transfer (automatic),42.3,1840.75,No',\n",
       " '9237-HQITU,Female,0,No,No,2,Yes,No,Fiber optic,No,No,No,No,No,No,Month-to-month,Yes,Electronic check,70.7,151.65,Yes']"
      ]
     },
     "execution_count": 17,
     "metadata": {},
     "output_type": "execute_result"
    }
   ],
   "source": [
    "rdd1.take(5) #take file element"
   ]
  },
  {
   "cell_type": "code",
   "execution_count": 18,
   "id": "e112448b",
   "metadata": {
    "scrolled": true
   },
   "outputs": [
    {
     "name": "stderr",
     "output_type": "stream",
     "text": [
      "                                                                                \r"
     ]
    },
    {
     "data": {
      "text/plain": [
       "7043"
      ]
     },
     "execution_count": 18,
     "metadata": {},
     "output_type": "execute_result"
    }
   ],
   "source": [
    "#total unique records count\n",
    "rdd1.distinct().count()"
   ]
  },
  {
   "cell_type": "code",
   "execution_count": 19,
   "id": "289a0834",
   "metadata": {},
   "outputs": [
    {
     "name": "stdout",
     "output_type": "stream",
     "text": [
      "initial partition count:1\n"
     ]
    }
   ],
   "source": [
    "print(\"initial partition count:\"+str(rdd1.getNumPartitions()))\n",
    "#Outputs: initial partition count:2"
   ]
  },
  {
   "cell_type": "markdown",
   "id": "aa40aa1a",
   "metadata": {},
   "source": [
    "ii.Transform: Exploratory data analysis using rdd\n",
    "\n",
    "    - replace Contract column values\n",
    "\n",
    "        - Month-to-month -1m\n",
    "\n",
    "        - One Year - 1y\n",
    "\n",
    "        - Two Year - 2y\n",
    "\n",
    "        - rest all - Others\n",
    "\n",
    "    - Unique customer count\n",
    "\n",
    "    - describe the categorical and numerical columns seperately\n",
    "\n",
    "    - GroupBy contract and avg of totalcharges\n",
    "\n",
    "    - using accumulator add the totalcharges\n",
    "   iii.Load: Save analysis report\n",
    "\n",
    "    - GroupBy contract and avg of totalcharges save as files\n",
    "\n"
   ]
  },
  {
   "cell_type": "code",
   "execution_count": 20,
   "id": "f87108a6",
   "metadata": {},
   "outputs": [],
   "source": [
    "step1= rdd1.map(lambda line: line.split(\",\")) # split by ,"
   ]
  },
  {
   "cell_type": "code",
   "execution_count": 21,
   "id": "a97c7932",
   "metadata": {},
   "outputs": [
    {
     "data": {
      "text/plain": [
       "[['7590-VHVEG',\n",
       "  'Female',\n",
       "  '0',\n",
       "  'Yes',\n",
       "  'No',\n",
       "  '1',\n",
       "  'No',\n",
       "  'No phone service',\n",
       "  'DSL',\n",
       "  'No',\n",
       "  'Yes',\n",
       "  'No',\n",
       "  'No',\n",
       "  'No',\n",
       "  'No',\n",
       "  'Month-to-month',\n",
       "  'Yes',\n",
       "  'Electronic check',\n",
       "  '29.85',\n",
       "  '29.85',\n",
       "  'No'],\n",
       " ['5575-GNVDE',\n",
       "  'Male',\n",
       "  '0',\n",
       "  'No',\n",
       "  'No',\n",
       "  '34',\n",
       "  'Yes',\n",
       "  'No',\n",
       "  'DSL',\n",
       "  'Yes',\n",
       "  'No',\n",
       "  'Yes',\n",
       "  'No',\n",
       "  'No',\n",
       "  'No',\n",
       "  'One year',\n",
       "  'No',\n",
       "  'Mailed check',\n",
       "  '56.95',\n",
       "  '1889.5',\n",
       "  'No']]"
      ]
     },
     "execution_count": 21,
     "metadata": {},
     "output_type": "execute_result"
    }
   ],
   "source": [
    "step1.take(2)"
   ]
  },
  {
   "cell_type": "markdown",
   "id": "236c7832",
   "metadata": {},
   "source": [
    "# 2.Transform: Exploratory data analysis using rdd\n",
    "\n",
    "- replace Contract column values\n",
    "\n",
    "    - Month-to-month -1m\n",
    "\n",
    "    - One Year - 1y\n",
    "\n",
    "    - Two Year - 2y\n",
    "\n",
    "    - rest all - Others"
   ]
  },
  {
   "cell_type": "code",
   "execution_count": 22,
   "id": "99dd0c6a",
   "metadata": {},
   "outputs": [],
   "source": [
    "def replace(column_val):\n",
    "    if column_val==\"Month-to-month\":\n",
    "        column_val=\"1m\"\n",
    "    elif column_val==\"One year\":\n",
    "        column_val=\"1y\"\n",
    "    elif column_val==\"Two year\":\n",
    "        column_val=\"2y\"\n",
    "    else:\n",
    "        column_val= \"Others\"\n",
    "    return column_val"
   ]
  },
  {
   "cell_type": "code",
   "execution_count": 23,
   "id": "e21696f5",
   "metadata": {},
   "outputs": [],
   "source": [
    "step2=step1.map(lambda x: (x[0],x[1],x[2],x[3],x[4],x[5],\n",
    "                           x[6],x[7],x[8],x[9],x[10],x[11],x[12],x[13],x[14],replace(x[15]),x[16],x[17],x[18],x[19],x[20]))"
   ]
  },
  {
   "cell_type": "code",
   "execution_count": 24,
   "id": "a46cb4ab",
   "metadata": {},
   "outputs": [
    {
     "data": {
      "text/plain": [
       "[('7590-VHVEG',\n",
       "  'Female',\n",
       "  '0',\n",
       "  'Yes',\n",
       "  'No',\n",
       "  '1',\n",
       "  'No',\n",
       "  'No phone service',\n",
       "  'DSL',\n",
       "  'No',\n",
       "  'Yes',\n",
       "  'No',\n",
       "  'No',\n",
       "  'No',\n",
       "  'No',\n",
       "  '1m',\n",
       "  'Yes',\n",
       "  'Electronic check',\n",
       "  '29.85',\n",
       "  '29.85',\n",
       "  'No'),\n",
       " ('5575-GNVDE',\n",
       "  'Male',\n",
       "  '0',\n",
       "  'No',\n",
       "  'No',\n",
       "  '34',\n",
       "  'Yes',\n",
       "  'No',\n",
       "  'DSL',\n",
       "  'Yes',\n",
       "  'No',\n",
       "  'Yes',\n",
       "  'No',\n",
       "  'No',\n",
       "  'No',\n",
       "  '1y',\n",
       "  'No',\n",
       "  'Mailed check',\n",
       "  '56.95',\n",
       "  '1889.5',\n",
       "  'No')]"
      ]
     },
     "execution_count": 24,
     "metadata": {},
     "output_type": "execute_result"
    }
   ],
   "source": [
    "step2.take(2)"
   ]
  },
  {
   "cell_type": "code",
   "execution_count": 120,
   "id": "f3890359",
   "metadata": {},
   "outputs": [],
   "source": [
    "## function to convert numerical columns from string to int\n",
    "def string_to_int(val):\n",
    "    try:\n",
    "        return int(float(val))\n",
    "    except:\n",
    "        return 0"
   ]
  },
  {
   "cell_type": "code",
   "execution_count": 123,
   "id": "5ca6fc3a",
   "metadata": {},
   "outputs": [],
   "source": [
    "step3=step2.map(lambda x: (x[0],x[1],string_to_int(x[2]),x[3],x[4],string_to_int(x[5]),\n",
    "                           x[6],x[7],x[8],x[9],x[10],x[11],x[12],x[13],x[14],x[15],x[16],x[17],string_to_int(x[18]),string_to_int(x[19]),x[20]))"
   ]
  },
  {
   "cell_type": "code",
   "execution_count": 28,
   "id": "5989c742",
   "metadata": {},
   "outputs": [
    {
     "data": {
      "text/plain": [
       "[('7590-VHVEG',\n",
       "  'Female',\n",
       "  0,\n",
       "  'Yes',\n",
       "  'No',\n",
       "  1,\n",
       "  'No',\n",
       "  'No phone service',\n",
       "  'DSL',\n",
       "  'No',\n",
       "  'Yes',\n",
       "  'No',\n",
       "  'No',\n",
       "  'No',\n",
       "  'No',\n",
       "  '1m',\n",
       "  'Yes',\n",
       "  'Electronic check',\n",
       "  29,\n",
       "  29,\n",
       "  'No')]"
      ]
     },
     "execution_count": 28,
     "metadata": {},
     "output_type": "execute_result"
    }
   ],
   "source": [
    "step3.take(1)"
   ]
  },
  {
   "cell_type": "markdown",
   "id": "6b620b4f",
   "metadata": {},
   "source": [
    "# 3. describe the categorical and numerical columns seperately\n"
   ]
  },
  {
   "cell_type": "markdown",
   "id": "77388909",
   "metadata": {},
   "source": [
    "## Numerical data"
   ]
  },
  {
   "cell_type": "code",
   "execution_count": 29,
   "id": "6fd684fd",
   "metadata": {},
   "outputs": [],
   "source": [
    "num_data=step3.map(lambda x: (x[2],x[5],x[18],x[19]))"
   ]
  },
  {
   "cell_type": "code",
   "execution_count": 30,
   "id": "abcce48e",
   "metadata": {
    "scrolled": false
   },
   "outputs": [
    {
     "data": {
      "text/plain": [
       "[(0, 1, 29, 29), (0, 34, 56, 1889), (0, 2, 53, 108), (0, 45, 42, 1840)]"
      ]
     },
     "execution_count": 30,
     "metadata": {},
     "output_type": "execute_result"
    }
   ],
   "source": [
    "num_data.take(4)"
   ]
  },
  {
   "cell_type": "markdown",
   "id": "fcec5b3d",
   "metadata": {},
   "source": [
    "## mean and variance "
   ]
  },
  {
   "cell_type": "code",
   "execution_count": 301,
   "id": "0f56f3c2",
   "metadata": {},
   "outputs": [
    {
     "name": "stdout",
     "output_type": "stream",
     "text": [
      "mean : [1.62146812e-01 3.23711487e+01 6.42958966e+01 2.27926509e+03]\n",
      "variance : [1.35874516e-01 6.03168108e+02 9.05572188e+02 5.13834082e+06]\n"
     ]
    },
    {
     "name": "stderr",
     "output_type": "stream",
     "text": [
      "\r",
      "[Stage 427:>                                                        (0 + 1) / 1]\r",
      "\r",
      "                                                                                \r"
     ]
    }
   ],
   "source": [
    "import numpy as np\n",
    "from pyspark.mllib.stat import Statistics\n",
    "num_data=step3.map(lambda x: (x[2],x[5],x[18],x[19]))\n",
    "num_data.take(5)\n",
    "summary = Statistics.colStats(num_data)\n",
    "print(\"mean :\",summary.mean())  # a dense vector containing the mean value for each column\n",
    "print(\"variance :\",summary.variance())  # column-wise variance\n"
   ]
  },
  {
   "cell_type": "markdown",
   "id": "6fd7ad4a",
   "metadata": {},
   "source": [
    "## Maximum and minimum entry  "
   ]
  },
  {
   "cell_type": "code",
   "execution_count": 32,
   "id": "28150c71",
   "metadata": {
    "scrolled": false
   },
   "outputs": [
    {
     "name": "stdout",
     "output_type": "stream",
     "text": [
      " Maximum  numbers in each column (1, 72, 117, 8436)\n",
      "Minimum  numbers in each column (0, 0, 19, 0)\n"
     ]
    }
   ],
   "source": [
    "# decribe num\n",
    "print(\" Maximum  entry  in each column\",num_data.max())\n",
    "print(\"Minimum  entery  in each column\",num_data.min())\n",
    "#print(\"Mean numbers in each columns\",num_data.mean())\n",
    "#print(\"Standard deviation of each columns\", num_data.std)"
   ]
  },
  {
   "cell_type": "markdown",
   "id": "3adde7c5",
   "metadata": {},
   "source": [
    "## Categorical data"
   ]
  },
  {
   "cell_type": "code",
   "execution_count": 260,
   "id": "c340824f",
   "metadata": {
    "scrolled": false
   },
   "outputs": [
    {
     "data": {
      "text/plain": [
       "[('7590-VHVEG',\n",
       "  'Female',\n",
       "  'Yes',\n",
       "  'No',\n",
       "  'No',\n",
       "  [7],\n",
       "  'DSL',\n",
       "  'No',\n",
       "  'Yes',\n",
       "  'No',\n",
       "  'No',\n",
       "  'No',\n",
       "  'No',\n",
       "  '1m',\n",
       "  'Yes',\n",
       "  'Electronic check',\n",
       "  'No')]"
      ]
     },
     "execution_count": 260,
     "metadata": {},
     "output_type": "execute_result"
    }
   ],
   "source": [
    "cat_data=step3.map(lambda x:(x[0],x[1],x[3],x[4],x[6],[7],x[8],x[9],x[10],x[11],x[12],x[13],x[14],x[15],x[16],x[17],x[20]))\n",
    "cat_data.take(1)"
   ]
  },
  {
   "cell_type": "code",
   "execution_count": 34,
   "id": "c4fc22a6",
   "metadata": {
    "scrolled": true
   },
   "outputs": [
    {
     "data": {
      "text/plain": [
       "7043"
      ]
     },
     "execution_count": 34,
     "metadata": {},
     "output_type": "execute_result"
    }
   ],
   "source": [
    "cat_data.count() #frequence, distinct,"
   ]
  },
  {
   "cell_type": "code",
   "execution_count": 242,
   "id": "ef8bb486",
   "metadata": {},
   "outputs": [],
   "source": [
    "##functions \n",
    "# Module for changing string to int\n",
    "def string_to_int(val):\n",
    "    try:\n",
    "        return int(float(val))\n",
    "    except:\n",
    "        return 0\n",
    "\n",
    "# Module getting the count\n",
    "def count(x):\n",
    "    temp=0\n",
    "    for val in list(x):\n",
    "        temp = temp + val[1]\n",
    "        out = str(val[0])+\",\"+str(temp)\n",
    "    return (out)\n",
    "\n",
    "#module for average\n",
    "def mean_val(x):\n",
    "    sums=0\n",
    "    l=0\n",
    "    for i in x:\n",
    "        sums= sums + i[1]\n",
    "        l=l+1\n",
    "        avg=round(sums/l,2)\n",
    "        \n",
    "    return (avg)\n",
    "\n",
    "## module for replace value\n",
    "def replace(column_val):\n",
    "    if column_val==\"Month-to-month\":\n",
    "        column_val=\"1m\"\n",
    "    elif column_val==\"One year\":\n",
    "        column_val=\"1y\"\n",
    "    elif column_val==\"Two year\":\n",
    "        column_val=\"2y\"\n",
    "    else:\n",
    "        column_val= \"Others\"\n",
    "    return column_val\n"
   ]
  },
  {
   "cell_type": "markdown",
   "id": "928843bf",
   "metadata": {},
   "source": [
    "### count Churn"
   ]
  },
  {
   "cell_type": "code",
   "execution_count": 251,
   "id": "7f192d1d",
   "metadata": {},
   "outputs": [
    {
     "data": {
      "text/plain": [
       "['No,194387', 'Yes,33603']"
      ]
     },
     "execution_count": 251,
     "metadata": {},
     "output_type": "execute_result"
    }
   ],
   "source": [
    "col=[0,1,3,4,6,7,8,9,10,11,12,13,14,15,16,17,20]\n",
    "cat_count = data.filter(lambda line: line != header).\\\n",
    "            map(lambda line: line.split(\",\")).\\\n",
    "            map(lambda x: (x[0],x[1],x[2],x[3],x[4],x[5],\n",
    "                           x[6],x[7],x[8],x[9],x[10],x[11],x[12],x[13],x[14],replace(x[15]),x[16],x[17],x[18],x[19],x[20])).map(\n",
    "    lambda x: ((x[20]), string_to_int(x[5]))).\\\n",
    "    groupBy(lambda x: x[0]).\\\n",
    "    map(lambda x: (count(x[1]))).coalesce(1)\n",
    "\n",
    "cat_count.collect()"
   ]
  },
  {
   "cell_type": "code",
   "execution_count": 277,
   "id": "c5edb8da",
   "metadata": {},
   "outputs": [
    {
     "data": {
      "text/plain": [
       "['Female,112469', 'Male,115521']"
      ]
     },
     "execution_count": 277,
     "metadata": {},
     "output_type": "execute_result"
    }
   ],
   "source": [
    "cat_ge = data.filter(lambda line: line != header).\\\n",
    "            map(lambda line: line.split(\",\")).\\\n",
    "           map(\n",
    "    lambda x: ((x[1]), string_to_int(x[5]))).\\\n",
    "    groupBy(lambda x: x[0]).\\\n",
    "    map(lambda x: (count(x[1]))).coalesce(1)\n",
    "\n",
    "cat_ge.collect()"
   ]
  },
  {
   "cell_type": "markdown",
   "id": "fe0cd5f3",
   "metadata": {},
   "source": [
    "### Count internetService"
   ]
  },
  {
   "cell_type": "code",
   "execution_count": 272,
   "id": "e98c3b21",
   "metadata": {},
   "outputs": [
    {
     "data": {
      "text/plain": [
       "['DSL,79461', 'Fiber optic,101914', 'No,46615']"
      ]
     },
     "execution_count": 272,
     "metadata": {},
     "output_type": "execute_result"
    }
   ],
   "source": [
    "cat_service = data.filter(lambda line: line != header).\\\n",
    "            map(lambda line: line.split(\",\")).map(\n",
    "    lambda x: ((x[8]), string_to_int(x[5]))).\\\n",
    "    groupBy(lambda x: x[0]).\\\n",
    "    map(lambda x: (count(x[1]))).coalesce(1)\n",
    "\n",
    "cat_service.collect()"
   ]
  },
  {
   "cell_type": "markdown",
   "id": "5d548902",
   "metadata": {},
   "source": [
    "###  count PaymentMethod"
   ]
  },
  {
   "cell_type": "code",
   "execution_count": 273,
   "id": "283015e0",
   "metadata": {},
   "outputs": [
    {
     "data": {
      "text/plain": [
       "['Electronic check,59538',\n",
       " 'Mailed check,35190',\n",
       " 'Bank transfer (automatic),67406',\n",
       " 'Credit card (automatic),65856']"
      ]
     },
     "execution_count": 273,
     "metadata": {},
     "output_type": "execute_result"
    }
   ],
   "source": [
    "cat_pyMethod = data.filter(lambda line: line != header).\\\n",
    "            map(lambda line: line.split(\",\")).map(\n",
    "    lambda x: ((x[17]), string_to_int(x[5]))).\\\n",
    "    groupBy(lambda x: x[0]).\\\n",
    "    map(lambda x: (count(x[1]))).coalesce(1)\n",
    "\n",
    "cat_pyMethod.collect()"
   ]
  },
  {
   "cell_type": "markdown",
   "id": "5a2e3f0a",
   "metadata": {},
   "source": [
    "### Count MultipleLines"
   ]
  },
  {
   "cell_type": "code",
   "execution_count": 274,
   "id": "d7ae3748",
   "metadata": {},
   "outputs": [
    {
     "data": {
      "text/plain": [
       "['No phone service,21645', 'No,81817', 'Yes,124528']"
      ]
     },
     "execution_count": 274,
     "metadata": {},
     "output_type": "execute_result"
    }
   ],
   "source": [
    "cat_pyMethod = data.filter(lambda line: line != header).\\\n",
    "            map(lambda line: line.split(\",\")).map(\n",
    "    lambda x: ((x[7]), string_to_int(x[5]))).\\\n",
    "    groupBy(lambda x: x[0]).\\\n",
    "    map(lambda x: (count(x[1]))).coalesce(1)\n",
    "\n",
    "cat_pyMethod.collect()"
   ]
  },
  {
   "cell_type": "markdown",
   "id": "06bbf60d",
   "metadata": {},
   "source": [
    "### number of churn w.r.t gender"
   ]
  },
  {
   "cell_type": "code",
   "execution_count": 257,
   "id": "e541ab75",
   "metadata": {},
   "outputs": [
    {
     "data": {
      "text/plain": [
       "[\"('No', 'Female'),96502\",\n",
       " \"('No', 'Male'),97885\",\n",
       " \"('Yes', 'Male'),17636\",\n",
       " \"('Yes', 'Female'),15967\"]"
      ]
     },
     "execution_count": 257,
     "metadata": {},
     "output_type": "execute_result"
    }
   ],
   "source": [
    "cat_gender = data.filter(lambda line: line != header).\\\n",
    "            map(lambda line: line.split(\",\")).map(\n",
    "    lambda x: ((x[20],x[1]), string_to_int(x[5]))).\\\n",
    "    groupBy(lambda x: x[0]).\\\n",
    "    map(lambda x: (count(x[1]))).coalesce(1)\n",
    "\n",
    "cat_gender.collect()"
   ]
  },
  {
   "cell_type": "markdown",
   "id": "aef449c5",
   "metadata": {},
   "source": [
    "# 4 .Unique customer count"
   ]
  },
  {
   "cell_type": "code",
   "execution_count": 279,
   "id": "cfda34c6",
   "metadata": {},
   "outputs": [
    {
     "data": {
      "text/plain": [
       "['7590-VHVEG,1',\n",
       " '5575-GNVDE,34',\n",
       " '3668-QPYBK,2',\n",
       " '7795-CFOCW,45',\n",
       " '9237-HQITU,2',\n",
       " '9305-CDSKC,8',\n",
       " '1452-KIOVK,22',\n",
       " '6713-OKOMC,10',\n",
       " '7892-POOKP,28',\n",
       " '6388-TABGU,62',\n",
       " '9763-GRSKD,13',\n",
       " '7469-LKBCI,16',\n",
       " '8091-TTVAX,58',\n",
       " '0280-XJGEX,49',\n",
       " '5129-JLPIS,25',\n",
       " '3655-SNQYZ,69',\n",
       " '8191-XWSZG,52',\n",
       " '9959-WOFKT,71',\n",
       " '4190-MFLUW,10',\n",
       " '4183-MYFRB,21',\n",
       " '8779-QRDMV,1',\n",
       " '1680-VDCWW,12',\n",
       " '1066-JKSGK,1',\n",
       " '3638-WEABW,58',\n",
       " '6322-HRPFA,49',\n",
       " '6865-JZNKO,30',\n",
       " '6467-CHFZW,47',\n",
       " '8665-UTDHZ,1',\n",
       " '5248-YGIJN,72',\n",
       " '8773-HHUOZ,17',\n",
       " '3841-NFECX,71',\n",
       " '4929-XIHVW,2',\n",
       " '6827-IEAUQ,27',\n",
       " '7310-EGVHZ,1',\n",
       " '3413-BMNZE,1',\n",
       " '6234-RAAPL,72',\n",
       " '6047-YHPVI,5',\n",
       " '6572-ADKRS,46',\n",
       " '5380-WJKOV,34',\n",
       " '8168-UQWWF,11',\n",
       " '8865-TNMNX,10',\n",
       " '9489-DEDVP,70',\n",
       " '9867-JCZSP,17',\n",
       " '4671-VJLCL,63',\n",
       " '4080-IIARD,13',\n",
       " '3714-NTNFO,49',\n",
       " '5948-UJZLF,2',\n",
       " '7760-OYPDY,2',\n",
       " '7639-LIAYI,52',\n",
       " '2954-PIBKO,69',\n",
       " '8012-SOUDQ,43',\n",
       " '9420-LOJKX,15',\n",
       " '6575-SUVOI,25',\n",
       " '7495-OOKFY,8',\n",
       " '4667-QONEA,60',\n",
       " '1658-BYGOY,18',\n",
       " '8769-KKTPH,63',\n",
       " '5067-XJQFU,66',\n",
       " '3957-SQXML,34',\n",
       " '5954-BDFSG,72',\n",
       " '0434-CSFON,47',\n",
       " '1215-FIGMP,60',\n",
       " '0526-SXDJP,72',\n",
       " '0557-ASKVU,18',\n",
       " '5698-BQJOH,9',\n",
       " '5122-CYFXA,3',\n",
       " '8627-ZYGSZ,47',\n",
       " '3410-YOQBQ,31',\n",
       " '3170-NMYVV,50',\n",
       " '7410-OIEDU,10',\n",
       " '2273-QCKXA,1',\n",
       " '0731-EBJQB,52',\n",
       " '1891-QRQSA,64',\n",
       " '8028-PNXHQ,62',\n",
       " '5630-AHZIL,3',\n",
       " '2673-CXQEU,56',\n",
       " '6416-JNVRK,46',\n",
       " '5590-ZSKRV,8',\n",
       " '0191-ZHSKZ,30',\n",
       " '3887-PBQAO,45',\n",
       " '5919-TMRGD,1',\n",
       " '8108-UXRQN,11',\n",
       " '9191-MYQKX,7',\n",
       " '9919-YLNNG,42',\n",
       " '0318-ZOPWS,49',\n",
       " '4445-ZJNMU,9',\n",
       " '4808-YNLEU,35',\n",
       " '1862-QRWPE,48',\n",
       " '2796-NNUFI,46',\n",
       " '3016-KSVCP,29',\n",
       " '4767-HZZHQ,30',\n",
       " '2424-WVHPL,1',\n",
       " '7233-PAHHL,66',\n",
       " '6067-NGCEU,65',\n",
       " '9848-JQJTX,72',\n",
       " '8637-XJIVR,12',\n",
       " '9803-FTJCG,71',\n",
       " '0278-YXOOG,5',\n",
       " '3212-KXOCR,52',\n",
       " '4598-XLKNJ,25',\n",
       " '6380-ARCEH,1',\n",
       " '3679-XASPY,1',\n",
       " '7123-WQUHX,38',\n",
       " '5386-THSLQ,66',\n",
       " '3192-NQECA,68',\n",
       " '6180-YBIQI,5',\n",
       " '6728-DKUCO,72',\n",
       " '9750-BOOHV,32',\n",
       " '8597-CWYHH,43',\n",
       " '2848-YXSMW,72',\n",
       " '0486-HECZI,55',\n",
       " '4549-ZDQYY,52',\n",
       " '5712-AHQNN,43',\n",
       " '4846-WHAFZ,37',\n",
       " '5256-SKJGO,64',\n",
       " '3071-VBYPO,3',\n",
       " '9560-BBZXK,36',\n",
       " '5299-RULOA,10',\n",
       " '8402-OOOHJ,41',\n",
       " '9445-ZUEQE,27',\n",
       " '1091-SOZGA,56',\n",
       " '2928-HLDBA,6',\n",
       " '0404-SWRVG,3',\n",
       " '6497-TILVL,7',\n",
       " '7219-TLZHO,4',\n",
       " '4622-YNKIJ,33',\n",
       " '4412-YLTKF,27',\n",
       " '6734-PSBAW,72',\n",
       " '3930-ZGWVE,1',\n",
       " '2639-UGMAZ,71',\n",
       " '2876-GZYZC,13',\n",
       " '6207-WIOLX,25',\n",
       " '8587-XYZSF,67',\n",
       " '3091-FYHKI,1',\n",
       " '2372-HWUHI,2',\n",
       " '7799-LGRDP,43',\n",
       " '7850-VWJUU,23',\n",
       " '3774-VBNXY,64',\n",
       " '6217-KDYWC,57',\n",
       " '0390-DCFDQ,1',\n",
       " '3146-MSEGF,72',\n",
       " '4080-OGPJL,8',\n",
       " '1095-WGNGG,61',\n",
       " '2636-SJDOU,64',\n",
       " '1131-QQZEB,71',\n",
       " '5716-EZXZN,65',\n",
       " '6837-BJYDQ,3',\n",
       " '2135-RXIHG,1',\n",
       " '6440-DKQGE,30',\n",
       " '3466-BYAVD,15',\n",
       " '3780-YVMFA,8',\n",
       " '3874-EQOEP,7',\n",
       " '1679-JRFBR,70',\n",
       " '9073-ZZIAY,62',\n",
       " '3077-RSNTJ,6',\n",
       " '6551-GNYDG,14',\n",
       " '9167-APMXZ,22',\n",
       " '2749-CTKAJ,22',\n",
       " '6371-NZYEG,16',\n",
       " '7554-NEWDD,10',\n",
       " '8992-VONJD,13',\n",
       " '0867-MKZVY,20',\n",
       " '4482-EWFMI,2',\n",
       " '4648-YPBTM,53',\n",
       " '2907-ILJBN,11',\n",
       " '6345-FZOQH,69',\n",
       " '3376-BMGFE,4',\n",
       " '5997-OPVFA,72',\n",
       " '3445-HXXGF,58',\n",
       " '1159-WFSGR,16',\n",
       " '7654-YWJUF,43',\n",
       " '1875-QIVME,2',\n",
       " '6727-IOTLZ,14',\n",
       " '0691-JVSYA,53',\n",
       " '5918-VUKWP,32',\n",
       " '1744-JHKYS,34',\n",
       " '2656-FMOKZ,15',\n",
       " '2070-FNEXE,7',\n",
       " '5947-SGKCL,15',\n",
       " '3712-PKXZA,61',\n",
       " '6317-YPKDH,1',\n",
       " '6582-OIVSP,1',\n",
       " '9367-WXLCH,8',\n",
       " '5524-KHNJP,33',\n",
       " '1918-ZBFQJ,13',\n",
       " '1024-GUALD,1',\n",
       " '4827-USJHP,20',\n",
       " '8167-GJLRN,3',\n",
       " '0956-SYCWG,13',\n",
       " '8017-UVSZU,40',\n",
       " '7100-FQPRV,43',\n",
       " '2472-OVKUP,6',\n",
       " '2984-RGEYA,69',\n",
       " '9680-NIAUV,72',\n",
       " '2146-EGVDT,59',\n",
       " '2604-IJPDU,20',\n",
       " '9178-JHUVJ,24',\n",
       " '6168-YBYNP,59',\n",
       " '7255-SSFBC,72',\n",
       " '3645-DEYGF,1',\n",
       " '9323-HGFWY,27',\n",
       " '8544-GOQSH,14',\n",
       " '3363-DTIVD,71',\n",
       " '7018-WBJNK,13',\n",
       " '9142-KZXOP,44',\n",
       " '7674-YTAFD,33',\n",
       " '6348-SNFUS,72',\n",
       " '1285-OKIPP,1',\n",
       " '7825-ECJRF,19',\n",
       " '1347-KTTTA,64',\n",
       " '7841-TZDMQ,2',\n",
       " '4195-NZGTA,1',\n",
       " '7157-SMCFK,61',\n",
       " '4709-LKHYG,29',\n",
       " '2504-DSHIH,23',\n",
       " '0699-NDKJM,57',\n",
       " '9286-BHDQG,72',\n",
       " '0230-WEQUW,66',\n",
       " '2040-LDIWQ,65',\n",
       " '6496-JDSSB,8',\n",
       " '9408-SSNVZ,4',\n",
       " '4443-EMBNA,71',\n",
       " '6469-MRVET,1',\n",
       " '0742-MOABM,4',\n",
       " '5961-VUSRV,12',\n",
       " '6778-JFCMK,24',\n",
       " '6341-JVQGF,31',\n",
       " '2232-DMLXU,1',\n",
       " '4811-JBUVU,30',\n",
       " '0945-TSONX,47',\n",
       " '2651-ZCBXV,54',\n",
       " '3316-UWXUY,50',\n",
       " '8937-RDTHP,1',\n",
       " '7083-MIOPC,72',\n",
       " '1984-GPTEH,29',\n",
       " '1251-KRREG,2',\n",
       " '0621-JFHOL,10',\n",
       " '9903-LYSAB,18',\n",
       " '0094-OIFMO,11',\n",
       " '9227-UAQFT,16',\n",
       " '7301-ABVAD,72',\n",
       " '6614-FHDBO,72',\n",
       " '7576-ASEJU,41',\n",
       " '9058-HRZSV,65',\n",
       " '4522-AKYLR,13',\n",
       " '0221-WMXNQ,4',\n",
       " '0303-UNCIP,41',\n",
       " '9947-OTFQU,15',\n",
       " '0322-YINQP,1',\n",
       " '0959-WHOKV,42',\n",
       " '4075-JFPGR,51',\n",
       " '4629-NRXKX,2',\n",
       " '9514-JDSKI,1',\n",
       " '3282-ZISZV,32',\n",
       " '3675-YDUPJ,10',\n",
       " '4111-BNXIF,67',\n",
       " '7017-VFHAY,61',\n",
       " '6655-LHBYW,50',\n",
       " '4959-JOSRX,2',\n",
       " '5046-NUHWD,29',\n",
       " '7273-TEFQD,3',\n",
       " '3606-TWKGI,13',\n",
       " '7529-ZDFXI,57',\n",
       " '7605-BDWDC,31',\n",
       " '1950-KSVVJ,45',\n",
       " '0123-CRBRT,61',\n",
       " '6292-TOSSS,50',\n",
       " '3197-ARFOY,19',\n",
       " '6323-AYBRX,59',\n",
       " '7014-ZZXAW,71',\n",
       " '4385-GZQXV,16',\n",
       " '7633-MVPUY,57',\n",
       " '6366-ZGQGL,1',\n",
       " '4716-HHKQH,20',\n",
       " '5940-AHUHD,1',\n",
       " '6432-TWQLB,5',\n",
       " '4484-GLZOU,52',\n",
       " '3179-GBRWV,21',\n",
       " '8645-KWHJO,14',\n",
       " '4130-MZLCC,5',\n",
       " '0314-TKOSI,6',\n",
       " '8229-MYEJZ,10',\n",
       " '2080-SRCDE,1',\n",
       " '9577-WJVCQ,68',\n",
       " '9512-UIBFX,18',\n",
       " '6202-DYYFX,22',\n",
       " '3808-HFKDE,20',\n",
       " '5583-SXDAG,1',\n",
       " '3488-PGMQJ,8',\n",
       " '3580-REOAC,10',\n",
       " '7534-BFESC,24',\n",
       " '3727-OWVYD,35',\n",
       " '2294-SALNE,23',\n",
       " '4847-TAJYI,6',\n",
       " '1563-IWQEX,12',\n",
       " '8203-XJZRC,1',\n",
       " '6556-DBKZF,71',\n",
       " '6851-WEFYX,35',\n",
       " '2985-JUUBZ,40',\n",
       " '6390-DSAZX,1',\n",
       " '0895-LMRSF,23',\n",
       " '8098-LLAZX,4',\n",
       " '8266-VBFQL,4',\n",
       " '8181-YHCMF,68',\n",
       " '2240-HSJQD,38',\n",
       " '1248-DYXUB,52',\n",
       " '0265-EDXBD,32',\n",
       " '4115-BNPJY,29',\n",
       " '3167-SNQPL,38',\n",
       " '4091-TVOCN,48',\n",
       " '1098-TDVUQ,1',\n",
       " '7277-OZCGZ,22',\n",
       " '1557-EMYVT,43',\n",
       " '2799-ARNLO,5',\n",
       " '7563-BIUPC,5',\n",
       " '5027-YOCXN,51',\n",
       " '3973-SKMLN,71',\n",
       " '2321-OMBXY,38',\n",
       " '2840-XANRC,24',\n",
       " '6745-JEFZB,35',\n",
       " '5020-ZSTTY,54',\n",
       " '9880-TDQAC,72',\n",
       " '8705-WZCYL,1',\n",
       " '7102-JJVTX,9',\n",
       " '8626-PTQGE,69',\n",
       " '4983-CLMLV,52',\n",
       " '5701-YVSVF,11',\n",
       " '5804-LEPIM,2',\n",
       " '5697-GOMBF,28',\n",
       " '2739-CACDQ,17',\n",
       " '9385-EHGDO,35',\n",
       " '9498-FIMXL,8',\n",
       " '2379-GYFLQ,46',\n",
       " '0122-OAHPZ,7',\n",
       " '2868-SNELZ,2',\n",
       " '4322-RCYMT,68',\n",
       " '6680-NENYN,43',\n",
       " '2088-IEBAU,68',\n",
       " '7982-VCELR,36',\n",
       " '1343-EHPYB,63',\n",
       " '6035-BXTTY,32',\n",
       " '6885-PKOAM,71',\n",
       " '7520-HQWJU,66',\n",
       " '9639-BUJXT,63',\n",
       " '5924-SNGKP,41',\n",
       " '0021-IKXGC,1',\n",
       " '2034-GDRCN,2',\n",
       " '8966-SNIZF,70',\n",
       " '6243-OZGFH,23',\n",
       " '4654-DLAMQ,64',\n",
       " '0513-RBGPE,37',\n",
       " '5160-UXJED,17',\n",
       " '4115-NZRKS,7',\n",
       " '0219-YTZUE,4',\n",
       " '0623-IIHUG,21',\n",
       " '4572-DVCGN,10',\n",
       " '3351-NGXYI,16',\n",
       " '8984-EYLLL,64',\n",
       " '9057-MSWCO,27',\n",
       " '9833-TGFHX,42',\n",
       " '9294-TDIPC,5',\n",
       " '5229-DTFYB,41',\n",
       " '0104-PPXDV,58',\n",
       " '5176-LMJXE,47',\n",
       " '3583-KRKMD,18',\n",
       " '1010-DIAUQ,5',\n",
       " '9069-LGEUL,23',\n",
       " '7302-ZHMHP,1',\n",
       " '9571-EDEBV,71',\n",
       " '3520-FJGCV,72',\n",
       " '6563-VRERX,33',\n",
       " '0259-GBZSH,2',\n",
       " '6122-EFVKN,24',\n",
       " '2805-EDJPQ,56',\n",
       " '6862-CQUMB,37',\n",
       " '7156-MXBJE,43',\n",
       " '6158-HDPXZ,1',\n",
       " '9601-BRXPO,25',\n",
       " '2863-IMQDR,61',\n",
       " '5686-CMAWK,17',\n",
       " '5651-CRHKQ,41',\n",
       " '6905-NIQIN,1',\n",
       " '8204-YJCLA,72',\n",
       " '5167-ZFFMM,1',\n",
       " '6583-SZVGP,48',\n",
       " '4895-TMWIR,11',\n",
       " '0533-BNWKF,55',\n",
       " '1708-PBBOA,42',\n",
       " '8782-LKFPK,44',\n",
       " '5522-JBWMO,1',\n",
       " '3597-MVHJT,27',\n",
       " '9774-NRNAU,27',\n",
       " '0224-RLWWD,2',\n",
       " '9967-ATRFS,19',\n",
       " '3951-NJCVI,42',\n",
       " '2977-CEBSX,66',\n",
       " '0177-PXBAT,33',\n",
       " '6599-CEBNN,34',\n",
       " '2519-ERQOJ,33',\n",
       " '5876-QMYLD,23',\n",
       " '2277-AXSDC,32',\n",
       " '9442-JTWDL,11',\n",
       " '0979-PHULV,69',\n",
       " '3067-SVMTC,68',\n",
       " '5495-GPSRW,20',\n",
       " '7606-BPHHN,72',\n",
       " '4742-DRORA,60',\n",
       " '0111-KLBQG,32',\n",
       " '4800-VHZKI,1',\n",
       " '7989-CHGTL,1',\n",
       " '0334-GDDSO,3',\n",
       " '4163-NCJAK,46',\n",
       " '5233-AOZUF,29',\n",
       " '5973-EJGDP,51',\n",
       " '1996-DBMUS,48',\n",
       " '7916-VCCPB,16',\n",
       " '4686-GEFRM,70',\n",
       " '5249-QYHEX,40',\n",
       " '0578-SKVMF,22',\n",
       " '5564-NEMQO,1',\n",
       " '2233-FAGXV,5',\n",
       " '5605-IYGFG,7',\n",
       " '7663-ZTEGJ,29',\n",
       " '3935-TBRZZ,44',\n",
       " '8111-BKVDS,10',\n",
       " '2055-SIFSS,55',\n",
       " '2806-MLNTI,52',\n",
       " '8734-DKSTZ,10',\n",
       " '4360-PNRQB,18',\n",
       " '6152-ONASV,68',\n",
       " '9063-ZGTUY,61',\n",
       " '7781-HVGMK,72',\n",
       " '2181-UAESM,2',\n",
       " '2957-LOLHO,12',\n",
       " '6048-NJXHX,41',\n",
       " '2320-SLKMB,26',\n",
       " '4980-URKXC,36',\n",
       " '4376-KFVRS,72',\n",
       " '5886-VLQVU,35',\n",
       " '3577-AMVUX,1',\n",
       " '0771-WLCLA,16',\n",
       " '5628-RKIFK,49',\n",
       " '0206-TBWLC,54',\n",
       " '2937-FTHUR,18',\n",
       " '1910-FMXJM,36',\n",
       " '7752-XUSCI,60',\n",
       " '4110-PFEUZ,1',\n",
       " '0732-OCQOC,52',\n",
       " '5168-MSWXT,8',\n",
       " '1090-ESELR,72',\n",
       " '8592-PLTMQ,64',\n",
       " '5760-WRAHC,22',\n",
       " '8847-GEOOQ,60',\n",
       " '0256-LTHVJ,28',\n",
       " '4785-FCIFB,61',\n",
       " '8313-NDOIA,24',\n",
       " '5149-CUZUJ,28',\n",
       " '0942-KOWSM,30',\n",
       " '4237-CLSMM,2',\n",
       " '1452-VOQCH,1',\n",
       " '4719-UMSIY,6',\n",
       " '6614-VBEGU,24',\n",
       " '0880-TKATG,4',\n",
       " '3811-VBYBZ,7',\n",
       " '1480-BKXGA,72',\n",
       " '2996-XAUVF,70',\n",
       " '9076-AXYIK,64',\n",
       " '5968-XQIVE,72',\n",
       " '8896-RAZCR,44',\n",
       " '4640-UHDOS,13',\n",
       " '4933-IKULF,17',\n",
       " '3583-EKAPL,1',\n",
       " '1304-BCCFO,9',\n",
       " '4104-PVRPS,24',\n",
       " '9399-APLBT,1',\n",
       " '2359-KMGLI,24',\n",
       " '3780-DDGSE,35',\n",
       " '4431-EDMIQ,7',\n",
       " '0306-JAELE,5',\n",
       " '6227-HWPWX,15',\n",
       " '0486-LGCCH,11',\n",
       " '0447-BEMNG,48',\n",
       " '4612-SSVHJ,20',\n",
       " '5168-MQQCA,72',\n",
       " '5949-XIKAE,8',\n",
       " '7971-HLVXI,72',\n",
       " '9094-AZPHK,15',\n",
       " '3649-JPUGY,72',\n",
       " '4472-LVYGI,0',\n",
       " '8372-JUXUI,1',\n",
       " '3552-CTCYF,63',\n",
       " '6778-YSNIH,2',\n",
       " '0388-EOPEX,2',\n",
       " '5756-OZRIO,61',\n",
       " '6579-JPICP,1',\n",
       " '8205-OTCHB,22',\n",
       " '4134-BSXLX,28',\n",
       " '0505-SPOOW,70',\n",
       " '6235-VDHOM,5',\n",
       " '7783-YKGDV,12',\n",
       " '4374-YMUSQ,34',\n",
       " '4513-CXYIX,71',\n",
       " '3957-HHLMR,70',\n",
       " '7803-XOCCZ,52',\n",
       " '5736-YEJAX,69',\n",
       " '5609-CEBID,20',\n",
       " '8981-FJGLA,11',\n",
       " '7218-HKQFK,2',\n",
       " '4636-QRJKY,6',\n",
       " '1135-LMECX,1',\n",
       " '4332-MUOEZ,20',\n",
       " '8535-SFUTN,61',\n",
       " '5956-VKDTT,5',\n",
       " '8677-HDZEE,56',\n",
       " '2475-MROZF,30',\n",
       " '9412-GHEEC,40',\n",
       " '3482-ABPKK,28',\n",
       " '6705-LXORM,5',\n",
       " '0257-ZESQC,27',\n",
       " '7531-GQHME,12',\n",
       " '5174-ITUMV,67',\n",
       " '4109-CYRBD,29',\n",
       " '0913-XWSCN,55',\n",
       " '6825-UYPFK,23',\n",
       " '8397-MVTAZ,34',\n",
       " '0750-EBAIU,52',\n",
       " '8606-CIQUL,72',\n",
       " '3571-DPYUH,58',\n",
       " '7601-GNDYK,35',\n",
       " '0356-OBMAC,56',\n",
       " '8067-NIOYM,24',\n",
       " '1403-GYAFU,70',\n",
       " '4234-XTNEA,2',\n",
       " '1297-VQDRP,68',\n",
       " '9282-IZGQK,1',\n",
       " '5348-CAGXB,12',\n",
       " '0621-HJWXJ,63',\n",
       " '5844-QVTAT,33',\n",
       " '8905-IAZPF,69',\n",
       " '5394-MEITZ,60',\n",
       " '6859-QNXIQ,72',\n",
       " '2782-LFZVW,11',\n",
       " '2866-IKBTM,1',\n",
       " '1342-JPNKI,10',\n",
       " '2817-NTQDO,13',\n",
       " '7129-AZJDE,34',\n",
       " '6986-IJDHX,39',\n",
       " '2560-PPCHE,65',\n",
       " '4676-MQUEA,50',\n",
       " '8138-EALND,15',\n",
       " '3580-HYCSP,72',\n",
       " '1352-HNSAW,72',\n",
       " '2075-PUEPR,55',\n",
       " '1982-FEBTD,23',\n",
       " '5301-GAUUY,32',\n",
       " '5791-KAJFD,56',\n",
       " '2654-VBVPB,1',\n",
       " '1154-HYWWO,38',\n",
       " '2501-XWWTZ,11',\n",
       " '3716-UVSPD,1',\n",
       " '6815-ABQFQ,56',\n",
       " '7343-EOBEU,3',\n",
       " '3701-SFMUH,7',\n",
       " '6103-LIANB,59',\n",
       " '7319-VENRZ,7',\n",
       " '5846-NEQVZ,71',\n",
       " '6967-QIQRV,15',\n",
       " '5781-RFZRP,71',\n",
       " '0939-YAPAF,35',\n",
       " '0308-IVGOK,11',\n",
       " '7293-LSCDV,60',\n",
       " '7025-WCBNE,47',\n",
       " '5756-JYOJT,11',\n",
       " '4710-FDUIZ,56',\n",
       " '6030-REHUX,28',\n",
       " '9548-LIGTA,61',\n",
       " '5150-LJNSR,31',\n",
       " '8270-RKSAP,9',\n",
       " '6522-YRBXD,35',\n",
       " '2640-LYMOV,2',\n",
       " '1218-VKFPE,12',\n",
       " '3627-FHKBK,1',\n",
       " '2865-TCHJW,4',\n",
       " '1423-BMPBQ,1',\n",
       " '2393-DIVAI,3',\n",
       " '5192-EBGOV,1',\n",
       " '4568-KNYWR,52',\n",
       " '8752-IMQOS,5',\n",
       " '0742-LAFQK,72',\n",
       " '0795-LAFGP,71',\n",
       " '0619-OLYUR,72',\n",
       " '5512-IDZEI,46',\n",
       " '0459-SPZHJ,63',\n",
       " '0215-BQKGS,30',\n",
       " '9244-ZVAPM,1',\n",
       " '0719-SYFRB,12',\n",
       " '8208-EUMTE,16',\n",
       " '5172-MIGPM,4',\n",
       " '1710-RCXUS,51',\n",
       " '0374-FIUCA,65',\n",
       " '5839-SUYVZ,16',\n",
       " '5173-ZXXXL,2',\n",
       " '1096-ADRUX,66',\n",
       " '2001-MCUUW,46',\n",
       " '2731-GJRDG,32',\n",
       " '4723-BEGSG,72',\n",
       " '6516-NKQBO,38',\n",
       " '8672-OAUPW,51',\n",
       " '8207-DMRVL,72',\n",
       " '3419-SNJJD,65',\n",
       " '6543-CPZMK,9',\n",
       " '4765-OXPPD,9',\n",
       " '2804-ETQDK,66',\n",
       " '6689-VRRTK,44',\n",
       " '7138-GIRSH,50',\n",
       " '9396-ZSFLL,15',\n",
       " '6464-KEXXH,8',\n",
       " '7134-MJPDY,66',\n",
       " '5240-CAOYT,57',\n",
       " '4059-IIEBK,7',\n",
       " '4881-JVQOD,10',\n",
       " '0516-UXRMT,62',\n",
       " '4851-BQDNX,40',\n",
       " '5148-HKFIR,20',\n",
       " '1009-IRMNA,7',\n",
       " '3003-CMDUU,25',\n",
       " '5016-IBERQ,23',\n",
       " '6797-UCJHZ,66',\n",
       " '2469-DTSGX,72',\n",
       " '4554-YGZIH,49',\n",
       " '5099-BAILX,43',\n",
       " '9931-KGHOA,46',\n",
       " '1775-KWJKQ,72',\n",
       " '7665-VIGUD,10',\n",
       " '9411-TPQQV,40',\n",
       " '7207-RMRDB,65',\n",
       " '7954-MLBUN,31',\n",
       " '2077-DDHJK,68',\n",
       " '4913-EHYUI,56',\n",
       " '0195-IESCP,10',\n",
       " '9574-BOSMD,68',\n",
       " '4580-TMHJU,43',\n",
       " '0970-ETWGE,1',\n",
       " '4908-XAXAY,49',\n",
       " '8404-VLQFB,15',\n",
       " '1626-ERCMM,20',\n",
       " '0887-HJGAR,1',\n",
       " '2391-IPLOP,50',\n",
       " '5644-PDMZC,2',\n",
       " '3509-GWQGF,24',\n",
       " '9576-ANLXO,3',\n",
       " '2024-BASKD,1',\n",
       " '5845-BZZIB,35',\n",
       " '1140-UKVZG,17',\n",
       " '4160-AMJTL,8',\n",
       " '5183-SNMJQ,10',\n",
       " '8100-PNJMH,68',\n",
       " '7838-LAZFO,45',\n",
       " '4464-JCOLN,2',\n",
       " '2085-JVGAD,37',\n",
       " '5650-VDUDS,4',\n",
       " '8095-WANWK,10',\n",
       " '3030-ZKIWL,1',\n",
       " '9565-FLVCG,65',\n",
       " '8755-OGKNA,57',\n",
       " '2800-VEQXM,3',\n",
       " '7538-GWHML,2',\n",
       " '5533-RJFTJ,49',\n",
       " '3859-CVCET,4',\n",
       " '0214-JHPFW,70',\n",
       " '5642-MHDQT,53',\n",
       " '3088-FVYWK,53',\n",
       " '3276-HDUEG,1',\n",
       " '9092-GDZKO,22',\n",
       " '0823-HSCDJ,52',\n",
       " '3729-OWRVL,65',\n",
       " '2324-AALNO,48',\n",
       " '0822-GAVAP,2',\n",
       " '5760-IFJOZ,3',\n",
       " '2826-UWHIS,45',\n",
       " '1448-PWKYE,1',\n",
       " '7501-IWUNG,61',\n",
       " '4957-TREIR,3',\n",
       " '7251-LJBQN,40',\n",
       " '8040-MNRTF,1',\n",
       " '1536-HBSWP,1',\n",
       " '5313-FPXWG,51',\n",
       " '0067-DKWBL,2',\n",
       " '0946-FKYTX,52',\n",
       " '5076-YVXCM,51',\n",
       " '8262-COGGB,1',\n",
       " '6663-JOCQO,31',\n",
       " '9620-QJREV,47',\n",
       " '2276-YDAVZ,3',\n",
       " '2682-KEVRP,22',\n",
       " '2480-JZOSN,1',\n",
       " '0078-XZMHT,72',\n",
       " '5896-NPFWW,3',\n",
       " '9978-HYCIN,47',\n",
       " '8338-QIUNR,72',\n",
       " '1525-LNLOJ,66',\n",
       " '9450-TRJUU,35',\n",
       " '1766-GKNMI,29',\n",
       " '6942-LBFDP,2',\n",
       " '1456-TWCGB,4',\n",
       " '7133-VBDCG,25',\n",
       " '7596-ZYWBB,65',\n",
       " '8329-UTMVM,27',\n",
       " '3014-WJKSM,29',\n",
       " '3347-YJZZE,29',\n",
       " '1029-QFBEN,1',\n",
       " '7929-DMBCV,20',\n",
       " '9661-JALZV,58',\n",
       " '5433-KYGHE,14',\n",
       " '4312-KFRXN,72',\n",
       " '5575-TPIZQ,46',\n",
       " '0114-IGABW,71',\n",
       " '9944-AEXBM,32',\n",
       " '1853-ARAAQ,26',\n",
       " '6952-OMNWB,68',\n",
       " '4697-LUPSU,2',\n",
       " '8434-VGEQQ,61',\n",
       " '4952-YSOGZ,4',\n",
       " '1589-AGTLK,3',\n",
       " '5244-IRFIH,33',\n",
       " '6549-YMFAW,9',\n",
       " '4950-HKQTE,22',\n",
       " '6786-OBWQR,5',\n",
       " '2684-EIWEO,30',\n",
       " '2753-JMMCV,65',\n",
       " '6439-GTPCA,45',\n",
       " '6621-YOBKI,5',\n",
       " '1216-JWVUX,25',\n",
       " '7564-GHCVB,72',\n",
       " '1173-NOEYG,27',\n",
       " '7595-EHCDL,32',\n",
       " '6647-ZEDXT,30',\n",
       " '2521-NPUZR,70',\n",
       " '1307-TVUFB,42',\n",
       " '7503-MIOGA,72',\n",
       " '4381-MHQDC,47',\n",
       " '6923-JHPMP,2',\n",
       " '5138-WVKYJ,10',\n",
       " '4018-PPNDW,61',\n",
       " '1635-FJFCC,5',\n",
       " '2499-AJYUA,72',\n",
       " '6919-ELBGL,72',\n",
       " '3966-HRMZA,3',\n",
       " '6425-JWTDV,48',\n",
       " '8405-IGQFX,63',\n",
       " '8224-IVVPA,27',\n",
       " '9477-LGWQI,70',\n",
       " '1410-RSCMR,7',\n",
       " '3115-CZMZD,0',\n",
       " '0139-IVFJG,2',\n",
       " '6683-VLCTZ,20',\n",
       " '5730-DBDSI,66',\n",
       " '0030-FNXPP,3',\n",
       " '2189-WWOEW,15',\n",
       " '5684-FJVYR,72',\n",
       " '4013-GUXND,1',\n",
       " '1894-IGFSG,22',\n",
       " '7379-POKDZ,3',\n",
       " '1266-NZYUI,72',\n",
       " '7969-FFOWG,65',\n",
       " '4718-DHSMV,11',\n",
       " '5175-WLYXL,22',\n",
       " '7817-OMJNA,14',\n",
       " '8728-SKJLR,41',\n",
       " '3137-NYQQI,17',\n",
       " '7706-DZNKK,11',\n",
       " '0236-HFWSV,15',\n",
       " '3900-AQPHZ,1',\n",
       " '5842-POCOP,5',\n",
       " '2037-XJFUP,33',\n",
       " '8823-RLPWL,72',\n",
       " '9505-SQFSW,3',\n",
       " '7314-OXENN,2',\n",
       " '3758-CKOQL,59',\n",
       " '0322-CHQRU,2',\n",
       " '5676-CFLYY,71',\n",
       " '7521-AFHAB,5',\n",
       " '0285-INHLN,27',\n",
       " '4678-DVQEO,1',\n",
       " '5125-CNDSP,63',\n",
       " '0691-IFBQW,46',\n",
       " '4992-LTJNE,72',\n",
       " '2202-OUTMO,34',\n",
       " '0810-BDHAW,24',\n",
       " '0229-LFJAF,72',\n",
       " '7131-ZQZNK,60',\n",
       " '3442-ZHHCC,68',\n",
       " '5726-CVNYA,8',\n",
       " '9871-ELEYA,34',\n",
       " '4257-GAESD,6',\n",
       " '5173-WXOQV,2',\n",
       " '2040-OBMLJ,31',\n",
       " '6286-ZHAOK,20',\n",
       " '3807-XHCJH,1',\n",
       " '3009-JWMPU,62',\n",
       " '5671-RQRLP,70',\n",
       " '1450-GALXR,10',\n",
       " '8859-AXJZP,39',\n",
       " '3174-AKMAS,46',\n",
       " '3138-BKYAV,6',\n",
       " '9926-PJHDQ,72',\n",
       " '7382-DFJTU,18',\n",
       " '2798-NYLMZ,71',\n",
       " '4289-DTDKW,40',\n",
       " '1820-TQVEV,1',\n",
       " '2239-JALAW,58',\n",
       " '4853-RULSV,70',\n",
       " '8098-TDCBU,42',\n",
       " '3551-GAEGL,34',\n",
       " '4785-NKHCX,5',\n",
       " '3196-NVXLZ,25',\n",
       " '6275-YDUVO,2',\n",
       " '0036-IHMOT,55',\n",
       " '0115-TFERT,21',\n",
       " '4178-EGMON,70',\n",
       " '4220-TINQT,61',\n",
       " '5318-YKDPV,43',\n",
       " '7975-TZMLR,47',\n",
       " '0295-QVKPB,5',\n",
       " '4335-BSMJS,62',\n",
       " '2311-QYMUQ,16',\n",
       " '3643-AHCFP,7',\n",
       " '9146-JRIOX,14',\n",
       " '3104-OWCGK,60',\n",
       " '5337-IIWKZ,34',\n",
       " '9101-BWFSS,50',\n",
       " '9650-VBUOG,38',\n",
       " '3487-EARAT,70',\n",
       " '2672-TGEFF,37',\n",
       " '9231-ZJYAM,4',\n",
       " '4250-WAROZ,60',\n",
       " '8184-WMOFI,62',\n",
       " '6982-SSHFK,1',\n",
       " '6092-QZVPP,36',\n",
       " '4625-LAMOB,44',\n",
       " '0727-BMPLR,55',\n",
       " '0392-BZIUW,72',\n",
       " '1038-ZAGBI,12',\n",
       " '6549-NNDYT,13',\n",
       " '3027-ZTDHO,1',\n",
       " '0422-OHQHQ,15',\n",
       " '6916-HIJSE,65',\n",
       " '2316-ESMLS,12',\n",
       " '9778-OGKQZ,72',\n",
       " '7408-OFWXJ,72',\n",
       " '6007-TCTST,72',\n",
       " '2252-NKNSI,52',\n",
       " '8713-IGZSO,2',\n",
       " '7905-TVXTA,5',\n",
       " '7695-PKLCZ,68',\n",
       " '2382-BCKQJ,62',\n",
       " '8374-UULRV,72',\n",
       " '2207-NHRJK,1',\n",
       " '3224-DFQNQ,66',\n",
       " '5275-PMFUT,72',\n",
       " '4795-UXVCJ,26',\n",
       " '9777-IQHWP,64',\n",
       " '0947-MUGVO,20',\n",
       " '9944-HKVVB,3',\n",
       " '4124-MMETB,22',\n",
       " '3671-SHRSP,4',\n",
       " '0979-MOZQI,62',\n",
       " '2732-ISEZX,5',\n",
       " '3313-QKNKB,59',\n",
       " '0323-XWWTN,3',\n",
       " '1937-OTUKY,72',\n",
       " '1573-LGXBA,57',\n",
       " '1764-VUUMT,66',\n",
       " '5073-WXOYN,60',\n",
       " '4713-ZBURT,45',\n",
       " '3050-GBUSH,3',\n",
       " '0207-MDKNV,15',\n",
       " '7876-AEHIG,51',\n",
       " '7945-HLKEA,60',\n",
       " '9342-VNIMQ,33',\n",
       " '9851-KIELU,10',\n",
       " '3523-BRGUW,26',\n",
       " '3908-BLSYF,6',\n",
       " '3199-NPKCN,67',\n",
       " '5170-PTRKA,49',\n",
       " '4661-NJEUX,1',\n",
       " '2123-AGEEN,7',\n",
       " '1258-YMZNM,27',\n",
       " '0048-LUMLS,37',\n",
       " '7549-MYGPK,63',\n",
       " '5898-IGSLP,31',\n",
       " '3804-RVTGV,50',\n",
       " '6259-WJQLC,32',\n",
       " '9227-LUNBG,1',\n",
       " '7997-EASSD,63',\n",
       " '0730-KOAVE,30',\n",
       " '8975-SKGRX,71',\n",
       " '0678-RLHVP,53',\n",
       " '4315-MURBD,12',\n",
       " '2267-FPIMA,50',\n",
       " '1051-GEJLJ,2',\n",
       " '9734-YWGEX,9',\n",
       " '2719-BDAQO,17',\n",
       " '5285-MVEHD,56',\n",
       " '0379-DJQHR,67',\n",
       " '0781-LKXBR,9',\n",
       " '5543-QDCRY,4',\n",
       " '0297-RBCSG,19',\n",
       " '4694-PHWFW,8',\n",
       " '0835-JKADZ,71',\n",
       " '1907-UBQFC,10',\n",
       " '7508-SMHXL,15',\n",
       " '3865-YIOTT,72',\n",
       " '5993-BQHEA,12',\n",
       " '6024-RUGGH,72',\n",
       " '6513-EECDB,1',\n",
       " '3956-CJUST,23',\n",
       " '4079-WWQQQ,72',\n",
       " '6103-BOCOU,26',\n",
       " '5149-TGWDZ,21',\n",
       " '7471-WNSUF,60',\n",
       " '8942-DBMHZ,12',\n",
       " '4301-VVZKA,16',\n",
       " '9199-PWQVC,63',\n",
       " '4824-GUCBY,22',\n",
       " '5393-HJZSM,32',\n",
       " '7074-IEVOJ,3',\n",
       " '9625-QSTYE,13',\n",
       " '0862-PRCBS,68',\n",
       " '8812-ZRHFP,30',\n",
       " '5146-CBVOE,16',\n",
       " '0454-OKRCT,33',\n",
       " '5787-KXGIY,72',\n",
       " '4750-ZRXIU,4',\n",
       " '4198-VFOEA,12',\n",
       " '6630-UJZMY,4',\n",
       " '5709-LVOEQ,0',\n",
       " '6400-BWQKW,6',\n",
       " '2692-AQCPF,65',\n",
       " '0347-UBKUZ,15',\n",
       " '0835-DUUIQ,24',\n",
       " '0811-GSDTP,13',\n",
       " '7567-ECMCM,24',\n",
       " '6115-ZTBFQ,72',\n",
       " '6353-BRMMA,54',\n",
       " '6680-WKXRZ,3',\n",
       " '6231-WFGFH,4',\n",
       " '9904-EHEVJ,32',\n",
       " '7028-DVOIQ,35',\n",
       " '6169-PPETC,35',\n",
       " '4208-UFFGW,2',\n",
       " '8584-KMVXD,8',\n",
       " '8467-WYNSR,22',\n",
       " '0851-DFJKB,15',\n",
       " '5382-SOYZL,22',\n",
       " '9448-REEVD,1',\n",
       " '3261-CQXOL,71',\n",
       " '8388-FYNPZ,4',\n",
       " '4002-BQWPQ,25',\n",
       " '5651-YLPRD,32',\n",
       " '2826-DXLQO,7',\n",
       " '4378-BZYFP,17',\n",
       " '9489-UTFKA,8',\n",
       " '4849-PYRLQ,56',\n",
       " '9117-SHLZX,1',\n",
       " '9889-TMAHG,8',\n",
       " '4541-RMRLG,7',\n",
       " '7764-BDPEE,3',\n",
       " '3429-IFLEM,71',\n",
       " '3158-MOERK,2',\n",
       " '7294-TMAOP,1',\n",
       " '5002-GCQFH,49',\n",
       " '0556-FJEGU,58',\n",
       " '8919-FYFQZ,44',\n",
       " '0604-THJFP,59',\n",
       " '2834-JRTUA,71',\n",
       " '5875-YPQFJ,1',\n",
       " '5879-SESNB,11',\n",
       " '6646-QVXLR,62',\n",
       " '6461-PPAXN,35',\n",
       " '3318-ISQFQ,20',\n",
       " '1106-HRLKZ,40',\n",
       " '2483-XSSMZ,39',\n",
       " '8603-IJWDN,1',\n",
       " '8165-ZJRNM,72',\n",
       " '9369-XFEHK,33',\n",
       " '2604-XVDAM,12',\n",
       " '3717-OFRTN,1',\n",
       " '9046-JBFWA,27',\n",
       " '3280-NMUVX,34',\n",
       " '1206-EHBDD,56',\n",
       " '8361-LBRDI,58',\n",
       " '4883-KCPZJ,22',\n",
       " '9108-EQPNQ,10',\n",
       " '7277-KAMWT,13',\n",
       " '3842-IYKUE,35',\n",
       " '6641-XRPSU,34',\n",
       " '1374-DMZUI,4',\n",
       " '2545-LXYVJ,72',\n",
       " '3234-VKACU,2',\n",
       " ...]"
      ]
     },
     "execution_count": 279,
     "metadata": {},
     "output_type": "execute_result"
    }
   ],
   "source": [
    "cat_customer = data.filter(lambda line: line != header).\\\n",
    "            map(lambda line: line.split(\",\")).map(\n",
    "    lambda x: ((x[0]), string_to_int(x[5]))).\\\n",
    "    groupBy(lambda x: x[0]).\\\n",
    "    map(lambda x: (count(x[1]))).coalesce(1)\n",
    "\n",
    "cat_customer.collect()"
   ]
  },
  {
   "cell_type": "markdown",
   "id": "de0e8ba5",
   "metadata": {},
   "source": [
    "# 5. -GroupBy contract and avg of totalcharges "
   ]
  },
  {
   "cell_type": "code",
   "execution_count": 225,
   "id": "6d3b6b31",
   "metadata": {},
   "outputs": [
    {
     "data": {
      "text/plain": [
       "[('1m', 29), ('1y', 1889)]"
      ]
     },
     "execution_count": 225,
     "metadata": {},
     "output_type": "execute_result"
    }
   ],
   "source": [
    "step4=step3.map(lambda x: (x[15],x[19]))\n",
    "step4.take(2)"
   ]
  },
  {
   "cell_type": "code",
   "execution_count": 224,
   "id": "7cb64a6a",
   "metadata": {
    "scrolled": true
   },
   "outputs": [
    {
     "data": {
      "text/plain": [
       "[('1m', 1368.79), ('1y', 3032.14), ('2y', 3706.47)]"
      ]
     },
     "execution_count": 224,
     "metadata": {},
     "output_type": "execute_result"
    }
   ],
   "source": [
    " #groupby contract and avg totalcharges   \n",
    "def mean_val(x):\n",
    "    sums=0\n",
    "    l=0\n",
    "    for i in x:\n",
    "        sums= sums + i[1]\n",
    "        l=l+1\n",
    "        avg=round(sums/l,2)\n",
    "        \n",
    "    return (avg)\n",
    "    \n",
    "step5= step4.map(lambda x:((x[0]),string_to_int(x[1])))\\\n",
    "            .map(lambda x: (x[0],x[1]))\\\n",
    "            .groupBy(lambda x: (x[0])).\\\n",
    "            map(lambda x: (x[0],mean_val(x[1]))).coalesce(1)\n",
    "\n",
    "           \n",
    "step5.collect() \n",
    "##step5.saveAsTextFile(\"data/avg_totalCharges\")"
   ]
  },
  {
   "cell_type": "markdown",
   "id": "c4b7ae10",
   "metadata": {},
   "source": [
    "# 6. using accumulator add the totalcharges"
   ]
  },
  {
   "cell_type": "code",
   "execution_count": 321,
   "id": "81bc1a27",
   "metadata": {},
   "outputs": [
    {
     "name": "stdout",
     "output_type": "stream",
     "text": [
      "176581534\n",
      "16052864\n",
      "7043\n"
     ]
    }
   ],
   "source": [
    "totalcharges=step4.map(lambda x: x[1])\n",
    "totalcharges.take(5)\n",
    "ccum=spark.sparkContext.accumulator(0)\n",
    "totalcharges.foreach(lambda x:accum.add(x))\n",
    "print(accum.value)\n",
    "\n",
    "accuSum=spark.sparkContext.accumulator(0)\n",
    "def countFun(x):\n",
    "    global accuSum\n",
    "    accuSum+=x\n",
    "totalcharges.foreach(countFun)\n",
    "print(accuSum.value)\n",
    "\n",
    "accumCount=spark.sparkContext.accumulator(0)\n",
    "totalcharges.foreach(lambda x:accumCount.add(1))\n",
    "print(accumCount.value)"
   ]
  },
  {
   "cell_type": "markdown",
   "id": "11858d6f",
   "metadata": {},
   "source": [
    "# 7.Load: Save analysis report\n",
    "\n",
    "- GroupBy contract and avg of totalcharges save as files"
   ]
  },
  {
   "cell_type": "code",
   "execution_count": 314,
   "id": "8c68e1d1",
   "metadata": {},
   "outputs": [],
   "source": [
    "#step5.saveAsTextFile(\"Report/avg_totalCharges\")"
   ]
  },
  {
   "cell_type": "markdown",
   "id": "fd344eca",
   "metadata": {},
   "source": [
    "## referencs\n",
    "- https://www.nbshare.io/notebook/403283317/How-To-Analyze-Data- Using-Pyspark-RDD/"
   ]
  },
  {
   "cell_type": "code",
   "execution_count": null,
   "id": "3a29a365",
   "metadata": {},
   "outputs": [],
   "source": []
  }
 ],
 "metadata": {
  "kernelspec": {
   "display_name": "Python 3 (ipykernel)",
   "language": "python",
   "name": "python3"
  },
  "language_info": {
   "codemirror_mode": {
    "name": "ipython",
    "version": 3
   },
   "file_extension": ".py",
   "mimetype": "text/x-python",
   "name": "python",
   "nbconvert_exporter": "python",
   "pygments_lexer": "ipython3",
   "version": "3.9.0"
  }
 },
 "nbformat": 4,
 "nbformat_minor": 5
}
